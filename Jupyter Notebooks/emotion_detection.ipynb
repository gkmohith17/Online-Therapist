{
  "nbformat": 4,
  "nbformat_minor": 0,
  "metadata": {
    "colab": {
      "provenance": [],
      "gpuType": "T4"
    },
    "kernelspec": {
      "name": "python3",
      "display_name": "Python 3"
    },
    "language_info": {
      "name": "python"
    },
    "accelerator": "GPU"
  },
  "cells": [
    {
      "cell_type": "code",
      "execution_count": null,
      "metadata": {
        "colab": {
          "base_uri": "https://localhost:8080/"
        },
        "id": "YCKLptlEnOrW",
        "outputId": "c4df21ce-7246-4b64-8be3-78357fe075f8"
      },
      "outputs": [
        {
          "output_type": "stream",
          "name": "stdout",
          "text": [
            "Requirement already satisfied: emot in /usr/local/lib/python3.10/dist-packages (3.1)\n"
          ]
        }
      ],
      "source": [
        "!pip install emot\n",
        "import numpy as np\n",
        "import pandas as pd\n",
        "import matplotlib.pyplot as plt\n",
        "import seaborn as sns\n",
        "import collections\n",
        "import nltk\n",
        "import io\n",
        "from textblob import Word\n",
        "import re\n",
        "import sys, os, csv\n",
        "import string\n",
        "from sklearn import preprocessing\n",
        "from sklearn.feature_extraction.text import TfidfVectorizer\n",
        "from sklearn.feature_extraction.text import CountVectorizer\n",
        "from sklearn.metrics import accuracy_score\n",
        "from sklearn.naive_bayes import MultinomialNB\n",
        "from sklearn.linear_model import SGDClassifier\n",
        "from sklearn.linear_model import LogisticRegression\n",
        "from sklearn.ensemble import RandomForestClassifier\n",
        "from sklearn.base import BaseEstimator, TransformerMixin\n",
        "from emot.emo_unicode import UNICODE_EMOJI, EMOTICONS_EMO\n",
        "from nltk.corpus import stopwords\n",
        "from nltk.tokenize import word_tokenize\n",
        "from nltk.corpus import wordnet\n",
        "from nltk.stem import PorterStemmer\n",
        "from nltk.stem import WordNetLemmatizer\n",
        "from collections import Counter"
      ]
    },
    {
      "cell_type": "code",
      "source": [
        "from google.colab import drive\n",
        "drive.mount('/content/drive')\n"
      ],
      "metadata": {
        "colab": {
          "base_uri": "https://localhost:8080/"
        },
        "id": "-tr0suTCrO9S",
        "outputId": "933725ac-06cb-4d07-c4b8-9c3aab17bf54"
      },
      "execution_count": null,
      "outputs": [
        {
          "output_type": "stream",
          "name": "stdout",
          "text": [
            "Drive already mounted at /content/drive; to attempt to forcibly remount, call drive.mount(\"/content/drive\", force_remount=True).\n"
          ]
        }
      ]
    },
    {
      "cell_type": "code",
      "source": [
        "file_path = '/content/drive/MyDrive/DL/Text-Emotion-Analysis-master.zip'\n",
        "\n",
        "import zipfile\n",
        "\n",
        "zip_file_path = file_path\n",
        "extraction_path = '/content/Text_Emotion/'\n",
        "\n",
        "import os\n",
        "os.makedirs(extraction_path, exist_ok=True)\n",
        "\n",
        "with zipfile.ZipFile(zip_file_path, 'r') as zip_ref:\n",
        "    zip_ref.extractall(extraction_path)\n",
        "\n",
        "print(f'Files extracted to {extraction_path}')\n"
      ],
      "metadata": {
        "colab": {
          "base_uri": "https://localhost:8080/"
        },
        "id": "Z9OdhWwTu6BJ",
        "outputId": "3cbb6742-2ad3-4893-d7e8-5004583c23f3"
      },
      "execution_count": null,
      "outputs": [
        {
          "output_type": "stream",
          "name": "stdout",
          "text": [
            "Files extracted to /content/Text_Emotion/\n"
          ]
        }
      ]
    },
    {
      "cell_type": "code",
      "source": [
        "def word_prob(word): return dictionary[word] / total\n",
        "def words(text): return re.findall('[a-z]+', text.lower())\n",
        "dictionary = Counter(words(open('/content/Text_Emotion/Text-Emotion-Analysis-master/dataset/wordlists/merged.txt').read()))\n",
        "max_word_length = max(map(len, dictionary))\n",
        "total = float(sum(dictionary.values()))\n",
        "\n",
        "def viterbi_segment(text):\n",
        "    probs, lasts = [1.0], [0]\n",
        "    for i in range(1, len(text) + 1):\n",
        "        prob_k, k = max((probs[j] * word_prob(text[j:i]), j)\n",
        "                        for j in range(max(0, i - max_word_length), i))\n",
        "        probs.append(prob_k)\n",
        "        lasts.append(k)\n",
        "    words = []\n",
        "    i = len(text)\n",
        "    while 0 < i:\n",
        "        words.append(text[lasts[i]:i])\n",
        "        i = lasts[i]\n",
        "    words.reverse()\n",
        "    return words, probs[-1]\n",
        "\n",
        "def fix_hashtag(text):\n",
        "    text = text.group().split(\":\")[0]\n",
        "    text = text[1:] # remove '#'\n",
        "    try:\n",
        "        test = int(text[0])\n",
        "        text = text[1:]\n",
        "    except:\n",
        "        pass\n",
        "    output = ' '.join(viterbi_segment(text)[0])\n",
        "    return output\n",
        "\n",
        "def prep(tweet):\n",
        "    \"\"\"pattern = re.compile(r\"(.)\\1{2,}\")\n",
        "    tweet = pattern.sub(r\"\\1\\1\", str(tweet))\n",
        "    tweet = re.sub(r'http.?://[^\\s]+[\\s]?', '', str(tweet))\n",
        "    punct = string.punctuation\n",
        "    trantab = str.maketrans(punct, len(punct) * ' ')  # Every punctuation symbol will be replaced by a space\n",
        "    tweet = tweet.translate(trantab)\n",
        "    tweet = tweet.lower()\n",
        "    tweet = tweet.strip()\"\"\"\n",
        "    tweet = str(tweet)\n",
        "    tweet = tweet.lower()\n",
        "    tweet = re.sub(\"(#[A-Za-z0-9]+)\", fix_hashtag, tweet)\n",
        "    tweet = ' '.join(re.sub(\"(@[A-Za-z0-9]+)|([^0-9A-Za-z \\t])|(\\w+:\\/\\/\\S+)\", \" \", tweet).split())\n",
        "\n",
        "    tweet = re.sub('\\d+', '', str(tweet))\n",
        "    def get_wordnet_pos(word):\n",
        "        tag = nltk.pos_tag([word])[0][1][0].upper()\n",
        "        tag_dict = {\"J\": wordnet.ADJ, \"N\": wordnet.NOUN, \"V\": wordnet.VERB, \"R\": wordnet.ADV}\n",
        "        return tag_dict.get(tag, wordnet.NOUN)\n",
        "\n",
        "    ps = PorterStemmer()\n",
        "    words = tweet.split()\n",
        "    lemmatizer = WordNetLemmatizer()\n",
        "    lemma_words = [lemmatizer.lemmatize(word, get_wordnet_pos(word)) for word in words]\n",
        "    tweet = \" \".join(lemma_words)\n",
        "\n",
        "    stopwords_list = stopwords.words('english')\n",
        "    # Some words which might indicate a certain sentiment are kept via a whitelist\n",
        "    whitelist = [\"n't\", \"not\", \"no\"]\n",
        "    words = tweet.split()\n",
        "    clean_words = [word for word in words if (word not in stopwords_list or word in whitelist) and len(word) > 1]\n",
        "    tweet = \" \".join(clean_words)\n",
        "\n",
        "    tweet = tweet.strip()\n",
        "    return tweet\n",
        "\n",
        "def vectorise_label(label):\n",
        "    if label == \"empty\":return 0\n",
        "    elif label == \"sadness\":return 2\n",
        "    elif label == \"enthusiasm\":return 1\n",
        "    elif label == \"neutral\":return 0\n",
        "    elif label == \"worry\":return 2\n",
        "    elif label == \"surprise\":return 1\n",
        "    elif label == \"love\":return 3\n",
        "    elif label == \"fun\":return 1\n",
        "    elif label == \"hate\":return 4\n",
        "    elif label == \"happiness\":return 1\n",
        "    elif label == \"boredom\":return 0\n",
        "    elif label == \"relief\":return 1\n",
        "    elif label == \"anger\":return 4"
      ],
      "metadata": {
        "id": "sDK2cV7WvsLs"
      },
      "execution_count": null,
      "outputs": []
    },
    {
      "cell_type": "code",
      "source": [
        "data1 = pd.read_csv(\"/content/Text_Emotion/Text-Emotion-Analysis-master/crawled_csv/sad_processes.csv\", sep=',', encoding='utf-8')\n",
        "!mkdir -p crawled_csv/prep\n",
        "!pip install nltk\n",
        "nltk.download('averaged_perceptron_tagger')\n",
        "nltk.download('wordnet')\n",
        "nltk.download('stopwords')\n",
        "nltk.download('punkt')\n",
        "dataWriter = csv.writer(open('/content/Text_Emotion/Text-Emotion-Analysis-master/crawled_csv/prep/sad_prep.csv', 'w'), delimiter=',',lineterminator=\"\\n\")\n",
        "total = 2000\n",
        "for i in range(1999):\n",
        "    tweet= prep(data1.iloc[:,0][i])\n",
        "    dataWriter.writerow([tweet, 2])\n",
        "print(\"Done!\")"
      ],
      "metadata": {
        "colab": {
          "base_uri": "https://localhost:8080/"
        },
        "id": "F_A_6U__v3T2",
        "outputId": "635b7b22-d594-4939-ecfc-02ad7ad591c4"
      },
      "execution_count": null,
      "outputs": [
        {
          "output_type": "stream",
          "name": "stdout",
          "text": [
            "Requirement already satisfied: nltk in /usr/local/lib/python3.10/dist-packages (3.8.1)\n",
            "Requirement already satisfied: click in /usr/local/lib/python3.10/dist-packages (from nltk) (8.1.7)\n",
            "Requirement already satisfied: joblib in /usr/local/lib/python3.10/dist-packages (from nltk) (1.4.2)\n",
            "Requirement already satisfied: regex>=2021.8.3 in /usr/local/lib/python3.10/dist-packages (from nltk) (2024.5.15)\n",
            "Requirement already satisfied: tqdm in /usr/local/lib/python3.10/dist-packages (from nltk) (4.66.5)\n"
          ]
        },
        {
          "output_type": "stream",
          "name": "stderr",
          "text": [
            "[nltk_data] Downloading package averaged_perceptron_tagger to\n",
            "[nltk_data]     /root/nltk_data...\n",
            "[nltk_data]   Package averaged_perceptron_tagger is already up-to-\n",
            "[nltk_data]       date!\n",
            "[nltk_data] Downloading package wordnet to /root/nltk_data...\n",
            "[nltk_data]   Package wordnet is already up-to-date!\n",
            "[nltk_data] Downloading package stopwords to /root/nltk_data...\n",
            "[nltk_data]   Package stopwords is already up-to-date!\n",
            "[nltk_data] Downloading package punkt to /root/nltk_data...\n",
            "[nltk_data]   Package punkt is already up-to-date!\n"
          ]
        },
        {
          "output_type": "stream",
          "name": "stdout",
          "text": [
            "Done!\n"
          ]
        }
      ]
    },
    {
      "cell_type": "code",
      "source": [
        "count = 0\n",
        "with open('/content/Text_Emotion/Text-Emotion-Analysis-master/crawled_csv/prep/sad_prep.csv', encoding = \"utf8\") as csvfile:\n",
        "    readCSV = csv.reader(csvfile, delimiter=',')\n",
        "    for row in readCSV:\n",
        "        count+=1\n",
        "print(count)"
      ],
      "metadata": {
        "colab": {
          "base_uri": "https://localhost:8080/"
        },
        "id": "qJF4BchLy8DE",
        "outputId": "a84c1f17-5d91-446a-e207-37ed0f62a4ed"
      },
      "execution_count": null,
      "outputs": [
        {
          "output_type": "stream",
          "name": "stdout",
          "text": [
            "1999\n"
          ]
        }
      ]
    },
    {
      "cell_type": "code",
      "source": [
        "data2 = pd.read_csv('/content/Text_Emotion/Text-Emotion-Analysis-master/dataset/data/text_emotion.csv', sep=',', encoding='utf-8')\n",
        "print(\"Dataset shape:\",data2.shape)\n",
        "print(data2.sentiment[0],\":\",data2.content[0])"
      ],
      "metadata": {
        "id": "YYK_OzfkzGjI",
        "colab": {
          "base_uri": "https://localhost:8080/"
        },
        "outputId": "1a21a243-144b-4b49-91d6-6caec6c6b989"
      },
      "execution_count": null,
      "outputs": [
        {
          "output_type": "stream",
          "name": "stdout",
          "text": [
            "Dataset shape: (40000, 4)\n",
            "empty : @tiffanylue i know  i was listenin to bad habit earlier and i started freakin at his part =[\n"
          ]
        }
      ]
    },
    {
      "cell_type": "code",
      "source": [
        "dataWriter = csv.writer(open('/content/Text_Emotion/Text-Emotion-Analysis-master/cleaned_data/data_prep.csv', 'w', encoding='utf-8'), delimiter=',',lineterminator=\"\\n\")\n",
        "\n",
        "total = 40000\n",
        "for i in range(40000):\n",
        "    tweet= prep(data2.content[i])\n",
        "    dataWriter.writerow([tweet, str(vectorise_label(data2.sentiment[i]))])\n",
        "\n",
        "print(\"Progress: \",100,\"\\nComplete!\")"
      ],
      "metadata": {
        "id": "hII5w04LzKJg",
        "colab": {
          "base_uri": "https://localhost:8080/"
        },
        "outputId": "44910ee6-e22a-4d59-faa2-217eaa4a5038"
      },
      "execution_count": null,
      "outputs": [
        {
          "output_type": "stream",
          "name": "stdout",
          "text": [
            "Progress:  100 \n",
            "Complete!\n"
          ]
        }
      ]
    },
    {
      "cell_type": "code",
      "source": [
        "count = 0\n",
        "with open('/content/Text_Emotion/Text-Emotion-Analysis-master/cleaned_data/data_prep.csv') as csvfile:\n",
        "    readCSV = csv.reader(csvfile, delimiter=',')\n",
        "    for row in readCSV:\n",
        "        count+=1\n",
        "print(count)"
      ],
      "metadata": {
        "id": "scNiPv_mzufL",
        "colab": {
          "base_uri": "https://localhost:8080/"
        },
        "outputId": "54622bef-10f5-4b52-ad84-6d56a9ad0a36"
      },
      "execution_count": null,
      "outputs": [
        {
          "output_type": "stream",
          "name": "stdout",
          "text": [
            "39993\n"
          ]
        }
      ]
    },
    {
      "cell_type": "code",
      "source": [
        "data_train = pd.read_csv('/content/Text_Emotion/Text-Emotion-Analysis-master/cleaned_data/emotion_data.csv', sep=',', encoding='utf-8')\n",
        "print(\"Dataset shape:\",data_train.shape)"
      ],
      "metadata": {
        "id": "CvInEHG8z3VW",
        "colab": {
          "base_uri": "https://localhost:8080/"
        },
        "outputId": "d8f250ab-cd75-4985-caaa-53719c0395fc"
      },
      "execution_count": null,
      "outputs": [
        {
          "output_type": "stream",
          "name": "stdout",
          "text": [
            "Dataset shape: (55773, 2)\n"
          ]
        }
      ]
    },
    {
      "cell_type": "code",
      "source": [
        "X_train = data_train.iloc[:,0][:49611]\n",
        "#[:47583]\n",
        "y_train = data_train.iloc[:,-1][:49611]\n",
        "#[:47583]\n",
        "X_val = data_train.iloc[:,0][49612:]\n",
        "#[47584:]\n",
        "y_val = data_train.iloc[:,-1][49612:]\n",
        "#[47584:]"
      ],
      "metadata": {
        "id": "J2qURF5Mz78I"
      },
      "execution_count": null,
      "outputs": []
    },
    {
      "cell_type": "code",
      "source": [
        "tfidf = TfidfVectorizer(max_features=1000, analyzer='word',ngram_range=(1,3))\n",
        "X_train_tfidf = tfidf.fit_transform(X_train.astype('U'))\n",
        "X_val_tfidf = tfidf.fit_transform(X_val.astype('U'))"
      ],
      "metadata": {
        "id": "Ls0-oaWGz_Al"
      },
      "execution_count": null,
      "outputs": []
    },
    {
      "cell_type": "code",
      "source": [
        "bow = tfidf.fit_transform(data_train.iloc[:,0].astype('U'))\n",
        "word_freq = dict(zip(tfidf.get_feature_names_out(), np.asarray(bow.sum(axis=0)).ravel()))\n",
        "word_counter = collections.Counter(word_freq)\n",
        "word_counter_df = pd.DataFrame(word_counter.most_common(30), columns = ['word', 'freq'])\n",
        "fig, ax = plt.subplots(figsize=(15, 10))\n",
        "sns.barplot(x=\"word\", y=\"freq\", data= word_counter_df, ax=ax, palette=\"plasma\")\n",
        "plt.show();"
      ],
      "metadata": {
        "id": "14VM3WBx0ZpP",
        "colab": {
          "base_uri": "https://localhost:8080/",
          "height": 908
        },
        "outputId": "2ec9b650-11a2-45b2-d4cb-7ff1b0e11477"
      },
      "execution_count": null,
      "outputs": [
        {
          "output_type": "stream",
          "name": "stderr",
          "text": [
            "<ipython-input-28-e76ef1a6f98d>:6: FutureWarning: \n",
            "\n",
            "Passing `palette` without assigning `hue` is deprecated and will be removed in v0.14.0. Assign the `x` variable to `hue` and set `legend=False` for the same effect.\n",
            "\n",
            "  sns.barplot(x=\"word\", y=\"freq\", data= word_counter_df, ax=ax, palette=\"plasma\")\n"
          ]
        },
        {
          "output_type": "display_data",
          "data": {
            "text/plain": [
              "<Figure size 1500x1000 with 1 Axes>"
            ],
            "image/png": "[encoded data removed]"
          },
          "metadata": {}
        }
      ]
    },
    {
      "cell_type": "code",
      "source": [
        "# Extracting Count Vectors Parameters\n",
        "count_vect = CountVectorizer(analyzer='word')\n",
        "count_vect.fit(data_train.iloc[:,0].astype('U'))\n",
        "X_train_count =  count_vect.transform(X_train.astype('U'))\n",
        "X_val_count =  count_vect.transform(X_val.astype('U'))"
      ],
      "metadata": {
        "id": "DqdjFq0h0t88"
      },
      "execution_count": null,
      "outputs": []
    },
    {
      "cell_type": "code",
      "source": [
        "bow = count_vect.fit_transform(data_train.iloc[:,0].astype('U'))\n",
        "print(bow.shape)\n",
        "word_freq = dict(zip(tfidf.get_feature_names_out(), np.asarray(bow.sum(axis=0)).ravel()))\n",
        "word_counter = collections.Counter(word_freq)\n",
        "word_counter_df = pd.DataFrame(word_counter.most_common(30), columns = ['word', 'freq'])\n",
        "fig, ax = plt.subplots(figsize=(15, 10))\n",
        "sns.barplot(x=\"word\", y=\"freq\", data= word_counter_df, ax=ax, palette=\"plasma\")\n",
        "plt.show();"
      ],
      "metadata": {
        "id": "92eJyJG20zeI",
        "colab": {
          "base_uri": "https://localhost:8080/",
          "height": 925
        },
        "outputId": "6db94608-1941-455d-9169-6fb011051e02"
      },
      "execution_count": null,
      "outputs": [
        {
          "output_type": "stream",
          "name": "stdout",
          "text": [
            "(55773, 36739)\n"
          ]
        },
        {
          "output_type": "stream",
          "name": "stderr",
          "text": [
            "<ipython-input-30-2aca7ac8f3d4>:7: FutureWarning: \n",
            "\n",
            "Passing `palette` without assigning `hue` is deprecated and will be removed in v0.14.0. Assign the `x` variable to `hue` and set `legend=False` for the same effect.\n",
            "\n",
            "  sns.barplot(x=\"word\", y=\"freq\", data= word_counter_df, ax=ax, palette=\"plasma\")\n"
          ]
        },
        {
          "output_type": "display_data",
          "data": {
            "text/plain": [
              "<Figure size 1500x1000 with 1 Axes>"
            ],
            "image/png": "[encoded data removed]"
          },
          "metadata": {}
        }
      ]
    },
    {
      "cell_type": "code",
      "source": [
        "logreg1 = LogisticRegression(C=1, max_iter=500)\n",
        "logreg1.fit(X_train_count, y_train)\n",
        "y_pred = logreg1.predict(X_val_count)\n",
        "print('log reg count vectors accuracy %s' % accuracy_score(y_pred, y_val))"
      ],
      "metadata": {
        "id": "vvdLlCSe0583",
        "colab": {
          "base_uri": "https://localhost:8080/"
        },
        "outputId": "de8bdba7-2532-44da-ff2d-952c64259570"
      },
      "execution_count": null,
      "outputs": [
        {
          "output_type": "stream",
          "name": "stdout",
          "text": [
            "log reg count vectors accuracy 0.5966563869501704\n"
          ]
        }
      ]
    },
    {
      "cell_type": "code",
      "source": [
        "tweets = pd.DataFrame([\"For instance, giving a kiss to your younger sibling daily after waking up in the morning and showing him how much you love them. For some happiness means loving life and seeing others happy. While some finds happiness in writing stories. Some conquer happiness in being simple yet the best person they can ever be. Everyone has their own unique way to feel happy by finding things that they never expected to find.\", # happy\n",
        "        \"Love is the key to happiness. We all want to lead a happy life. People look around for happiness in power, fashion, wealth, drugs etc. But these things can only give temporary pleasures. The power of love can create miracles. Love can create unity among nations and its citizens. Love is the most beautiful feeling in the world. Love has given different meaning by different people depending upon how they have experienced this wonderful feeling.\", # love\n",
        "        \"One day I was studying in my room when, all of a sudden, i heard hot words being exchanged between two persons in the street. I paid no attention, thinking it would be a minor quarrel but soon I heard the voices of a large number of people. I peeped from the window and saw that there was a street quarrel. I went downstairs and reached the spot in the twinkling of an eyes. I was at my wits end on seeing that both of them had come to blows. The people were standing around them and enjoying their quarrel but none tried to pacify them.\", # sad\n",
        "        \"I am so angry at you!!!!!\", # anger\n",
        "        \"you ve hit a new low with a danger of blm fascist slogan please stop it before too late stop\", # anger\n",
        "        \"I love my doggg\", # love\n",
        "        \"I think i'm gonna be sick :'‑(\", # sad\n",
        "        \"I hate you so much\", # anger\n",
        "        \"I'm at work\", # neutral\n",
        "        \"@TheTombert i was watching Harpers Island, lol... there was no vodka involved\", # neutral\n",
        "        \"sometimes i wish things could go back to the way they were the beginning of last summer\", # sad\n",
        "        \"it's your 18th birthday finally!!! yippeeeee\", # happy\n",
        "        \"still waiting in line\", # neutral\n",
        "        \"aarrgghh - fu*k.....a hose has leaked water all over the new floating floor\", # anger\n",
        "        \"that b*tch is so ugly\", # anger\n",
        "        \"oh no he is hospitalised!!!\", # sad\n",
        "       ])\n",
        "\n",
        "tweet_count = count_vect.transform(tweets[0])"
      ],
      "metadata": {
        "id": "Py-9SxsE1GY8"
      },
      "execution_count": null,
      "outputs": []
    },
    {
      "cell_type": "code",
      "source": [
        "tweet_pred = logreg1.predict(tweet_count)\n",
        "for i in range(len(tweets)):\n",
        "  if(tweet_pred[i] == 0):\n",
        "    print(\"Neutral\")\n",
        "  elif(tweet_pred[i] == 1):\n",
        "    print(\"Happy\")\n",
        "  elif(tweet_pred[i] == 2):\n",
        "    print(\"sad\")\n",
        "  elif(tweet_pred[i] == 3):\n",
        "    print(\"love\")\n",
        "  else:\n",
        "    print(\"anger\")\n",
        "#tweets[0]"
      ],
      "metadata": {
        "id": "TWlfEVWT1Ptp",
        "colab": {
          "base_uri": "https://localhost:8080/"
        },
        "outputId": "abd686e3-5607-4cd4-f18a-3ce82c425cb4"
      },
      "execution_count": null,
      "outputs": [
        {
          "output_type": "stream",
          "name": "stdout",
          "text": [
            "Happy\n",
            "love\n",
            "sad\n",
            "anger\n",
            "anger\n",
            "love\n",
            "sad\n",
            "anger\n",
            "Neutral\n",
            "Neutral\n",
            "sad\n",
            "Happy\n",
            "Neutral\n",
            "anger\n",
            "Neutral\n",
            "sad\n"
          ]
        }
      ]
    },
    {
      "cell_type": "code",
      "source": [
        "import pickle\n",
        "\n",
        "# Save the model, prep function, and count_vect in a dictionary\n",
        "data = {\n",
        "    'model': logreg1,\n",
        "    'prep': prep,\n",
        "    'count_vect': count_vect\n",
        "}\n",
        "\n",
        "with open('/content/drive/MyDrive/DL/emo.pkl', 'wb') as file:\n",
        "    pickle.dump(data, file)"
      ],
      "metadata": {
        "id": "B73otf7BkIoy"
      },
      "execution_count": null,
      "outputs": []
    }
  ]
}